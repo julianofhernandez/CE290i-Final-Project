{
 "cells": [
  {
   "cell_type": "code",
   "execution_count": 1,
   "id": "e7bd894d-bce5-47af-8aab-ec154758bda9",
   "metadata": {},
   "outputs": [],
   "source": [
    "import requests\n",
    "import json\n",
    "import os\n",
    "from bs4 import BeautifulSoup\n",
    "import subprocess"
   ]
  },
  {
   "cell_type": "code",
   "execution_count": 2,
   "id": "9f08f520-d3be-4619-bcf0-1ccd5e389929",
   "metadata": {},
   "outputs": [
    {
     "name": "stdout",
     "output_type": "stream",
     "text": [
      "1512\n"
     ]
    }
   ],
   "source": [
    "def get_m3u8_video_urls(api_url):\n",
    "    try:\n",
    "        response = requests.get(api_url)\n",
    "        response.raise_for_status()\n",
    "        data = response.json()\n",
    "        m3u8_video_urls = [entry['VideoUrl'] for entry in data if entry.get('VideoUrl') and entry['VideoUrl'].endswith('.m3u8')]\n",
    "        return m3u8_video_urls\n",
    "    except Exception as e:\n",
    "        print(f\"Error: {e}\")\n",
    "        return []\n",
    "\n",
    "# API URL\n",
    "api_url = \"https://511ny.org/api/getcameras?key=9fc53c6d396b4187b4e5bc3f00459ce0&format=json\"\n",
    "\n",
    "# Get the list of M3U8 video URLs\n",
    "m3u8_video_urls = get_m3u8_video_urls(api_url)\n",
    "print(len(m3u8_video_urls))"
   ]
  },
  {
   "cell_type": "code",
   "execution_count": null,
   "id": "f5b5b281-e012-422d-b9ac-89314f3b3cfd",
   "metadata": {},
   "outputs": [],
   "source": [
    "import os\n",
    "import requests\n",
    "import subprocess\n",
    "from tqdm import tqdm  # Import tqdm for progress tracking\n",
    "\n",
    "segments_folder = 'segments_folder'\n",
    "\n",
    "if not os.path.exists(segments_folder):\n",
    "    os.makedirs(segments_folder)\n",
    "\n",
    "def is_m3u8_valid(m3u8_url):\n",
    "    try:\n",
    "        response = requests.get(m3u8_url)\n",
    "        response.raise_for_status()  # Check for successful HTTP response\n",
    "        if response.text.startswith('#EXTM3U'):\n",
    "            return True\n",
    "    except Exception as e:\n",
    "        pass\n",
    "    return False\n",
    "\n",
    "def download_m3u8_to_mp4(m3u8_urls, output_folder, segment_duration=60, duration_limit=60):\n",
    "    stream_ids = [str(i) for i in range(len(m3u8_urls))]\n",
    "    skips = 0\n",
    "\n",
    "    # Create a tqdm progress bar\n",
    "    with tqdm(total=len(m3u8_urls)) as pbar:\n",
    "        for url, stream_id in zip(m3u8_urls, stream_ids):\n",
    "            output_filename = os.path.join(output_folder, f'stream_{stream_id}_segment_000.mp4')\n",
    "            if os.path.exists(output_filename):\n",
    "                skips += 1\n",
    "            else:\n",
    "                if is_m3u8_valid(url):\n",
    "                    # ffmpeg command to download m3u8 stream and segment it into continuous MP4 files\n",
    "                    cmd = [\n",
    "                        'ffmpeg',\n",
    "                        '-i', url,\n",
    "                        '-c', 'copy',\n",
    "                        '-t', str(duration_limit),\n",
    "                        '-f', 'segment',\n",
    "                        '-segment_time', str(segment_duration),\n",
    "                        '-reset_timestamps', '1',\n",
    "                        output_filename\n",
    "                    ]\n",
    "                    subprocess.call(cmd)\n",
    "                else:\n",
    "                    skips += 1\n",
    "            pbar.update(1)  # Update the progress bar\n",
    "    print(f\"Successfully downloaded {len(m3u8_urls) - skips}\\nSkipped {skips} streams.\")\n",
    "\n",
    "download_m3u8_to_mp4(m3u8_video_urls, segments_folder)"
   ]
  },
  {
   "cell_type": "code",
   "execution_count": null,
   "id": "3f5fa62f-1d83-465b-beaa-74ba5b061e5b",
   "metadata": {},
   "outputs": [],
   "source": [
    "for video in os.listdir(segments_folder):\n",
    "    SOURCE_VIDEO_PATH = os.path.join(segments_folder, video)\n",
    "    print(sv.VideoInfo.from_video_path(SOURCE_VIDEO_PATH))"
   ]
  },
  {
   "cell_type": "code",
   "execution_count": null,
   "id": "6af7a439-bf2a-49bf-8e07-3c40fdfe8747",
   "metadata": {},
   "outputs": [],
   "source": []
  },
  {
   "cell_type": "code",
   "execution_count": null,
   "id": "4b9c2818-9789-4aaa-8445-558904ebd148",
   "metadata": {},
   "outputs": [],
   "source": []
  },
  {
   "cell_type": "code",
   "execution_count": null,
   "id": "f7acbb4b-c946-42f8-bc01-bb7a2516805d",
   "metadata": {},
   "outputs": [],
   "source": []
  },
  {
   "cell_type": "code",
   "execution_count": null,
   "id": "d9724531-8a3b-4135-8285-e9d7ff6fb0ea",
   "metadata": {},
   "outputs": [],
   "source": []
  }
 ],
 "metadata": {
  "kernelspec": {
   "display_name": "Python 3 (ipykernel)",
   "language": "python",
   "name": "python3"
  },
  "language_info": {
   "codemirror_mode": {
    "name": "ipython",
    "version": 3
   },
   "file_extension": ".py",
   "mimetype": "text/x-python",
   "name": "python",
   "nbconvert_exporter": "python",
   "pygments_lexer": "ipython3",
   "version": "3.11.5"
  }
 },
 "nbformat": 4,
 "nbformat_minor": 5
}
